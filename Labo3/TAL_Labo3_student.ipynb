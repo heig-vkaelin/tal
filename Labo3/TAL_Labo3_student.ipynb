{
 "cells": [
  {
   "cell_type": "markdown",
   "metadata": {},
   "source": [
    "<img src=\"http://iict-space.heig-vd.ch/apu/wp-content/uploads/sites/21/2022/01/2020-slim.png\" alt=\"HEIG-VD Logo\" width=\"100\" align=\"right\"/>\n",
    "\n",
    "# Cours TAL - Laboratoire 3 : Analyse syntaxique du français\n",
    "\n",
    "**Objectifs**\n",
    "\n",
    "1. Utiliser un analyseur syntaxique **en constituants** pour extraire tous les groupes nominaux d'un texte.\n",
    "1. Appliquer un analyseur syntaxique **de dépendances** sur des données de test en français et calculer son score.\n",
    "1. Entraîner l'analyseur **de dépendances** sur des données adaptées et mesurer si les performances se sont améliorées ou non."
   ]
  },
  {
   "cell_type": "markdown",
   "metadata": {},
   "source": [
    "## 1.\tUtiliser un analyseur syntaxique en constituants pour extraire les groupe nominaux\n",
    "\n",
    "Vous utiliserez l'analyseur syntaxique en constituants appelé `LexicalizedParser` fourni parmi les outils CoreNLP de Stanford, et [documenté ici](https://nlp.stanford.edu/nlp/javadoc/javanlp/edu/stanford/nlp/parser/lexparser/LexicalizedParser.html).  \n",
    "\n",
    "\n",
    "* **code Java** : fichier `stanford-corenlp-3.9.2.jar` (8 Mo) fourni sur Cyberlearn\n",
    "* **modèle** : fichier `frenchFactored.ser.gz` (4 Mo) fourni sur Cyberlearn\n",
    "* **données** : fichier `exemple.txt` fourni sur Cyberlearn\n",
    "\n",
    "a. Veuillez écrire la ligne de commande (java) qui effecte l'analyse syntaxique en constituants du texte `exemple.txt`. Choisissez 'oneline' comme format et écrivez les résultats dans un ficher."
   ]
  },
  {
   "cell_type": "code",
   "execution_count": 23,
   "metadata": {},
   "outputs": [
    {
     "name": "stdout",
     "output_type": "stream",
     "text": [
      "Loading parser from serialized file frenchFactored.ser.gz ... done [0.8 sec].\n",
      "Parsing file: exemple.txt\n",
      "edu.stanford.nlp.international.french.process.FrenchLexer: Invalid options key in constructor: splitContractions\n",
      "Parsing [sent. 1 len. 12]: Les gares voyageurs sont en fait des ensembles fonctionnels plus larges .\n",
      "Parsing [sent. 2 len. 20]: Elles regroupent toutes les fonctions centrées sur l' accès à le train et l' achat des titres de transport .\n",
      "Parsing [sent. 3 len. 11]: Elles offrent aussi divers services commerciaux liés à le voyage .\n",
      "Parsing [sent. 4 len. 16]: Pour certaines gares , le passage de nombreux voyageurs justifie l' installation de fonctions annexes .\n",
      "Parsing [sent. 5 len. 13]: Il s' agit , par exemple , de commerces et services variés .\n",
      "Parsing [sent. 6 len. 12]: Les gares peu importantes sont appelées haltes ou points d' arrêt .\n",
      "Parsing [sent. 7 len. 23]: Le train est un matériel roulant ferroviaire assurant le transport de personnes ou de marchandises sur une ligne de chemin de fer .\n",
      "Parsing [sent. 8 len. 19]: Par extension , on appelle train le service que constitue chacun de ces transports , réguliers ou non .\n",
      "Parsing [sent. 9 len. 14]: Le train est un mode de transport , s' effectuant sur voie ferrée .\n",
      "Parsing [sent. 10 len. 48]: Étymologiquement parlant , le mot train désigne une rame de wagons de marchandises ou de voitures de passagers tractée par à le moins une locomotive , par opposition à les rames automotrices -LRB- catégorie dont fait partie le TGV -RRB- ou autorails qui assurent leur propre propulsion .\n",
      "Parsing [sent. 11 len. 40]: Cependant , dans l' usage courant , le mot train désigne n' importe quelle circulation ferroviaire , quelle que soit sa composition , depuis le plus simple autorail local jusqu'aux longs trains de grandes lignes ou de transports industriels .\n",
      "Parsed file: exemple.txt [11 sentences].\n",
      "Parsed 228 words in 11 sentences (46,20 wds/sec; 2,23 sents/sec).\n"
     ]
    }
   ],
   "source": [
    "!java -cp stanford-corenlp-3.9.2.jar edu.stanford.nlp.parser.lexparser.LexicalizedParser \\\n",
    "-outputFormat oneline \\\n",
    "-writeOutputFiles \\\n",
    "frenchFactored.ser.gz exemple.txt"
   ]
  },
  {
   "cell_type": "markdown",
   "metadata": {},
   "source": [
    "b. Importez le fichier de résultats du LexicalizedParser comme une liste d'arbres, en utilisant la classe `BracketParseCorpusReader` de NLTK.  Chaque ligne contenant une analyse syntaxique sera importée comme un objet `Tree` de NLTK. "
   ]
  },
  {
   "cell_type": "code",
   "execution_count": 1,
   "metadata": {},
   "outputs": [],
   "source": [
    "from nltk.corpus.reader.bracket_parse import BracketParseCorpusReader"
   ]
  },
  {
   "cell_type": "code",
   "execution_count": 11,
   "metadata": {},
   "outputs": [],
   "source": [
    "filename = 'exemple.txt.stp'\n",
    "reader = BracketParseCorpusReader('.', filename)\n",
    "trees = reader.parsed_sents()"
   ]
  },
  {
   "cell_type": "markdown",
   "metadata": {},
   "source": [
    "c. Cherchez dans la [documentation](https://www.nltk.org/_modules/nltk/tree.html#Tree) de `Tree` une fonction d'affichage, et affichez l'arbre de la première ligne."
   ]
  },
  {
   "cell_type": "code",
   "execution_count": 16,
   "metadata": {},
   "outputs": [
    {
     "name": "stdout",
     "output_type": "stream",
     "text": [
      "                                   ROOT                                                \n",
      "                                    |                                                   \n",
      "                                   SENT                                                \n",
      "       _____________________________|_______________________________________________    \n",
      "      NP             |         |                           NP                       |  \n",
      "  ____|_______       |         |          _________________|_____________           |   \n",
      " |    |       AP     VN      MWADV       |      |          AP            AP         |  \n",
      " |    |       |      |     ____|____     |      |          |         ____|____      |   \n",
      "DET   NC     ADJ     V    P         N   DET     NC        ADJ      ADV       ADJ   PUNC\n",
      " |    |       |      |    |         |    |      |          |        |         |     |   \n",
      "Les gares voyageurs sont  en       fait des ensembles fonctionnels plus     larges  .  \n",
      "\n"
     ]
    }
   ],
   "source": [
    "trees[0].pretty_print()"
   ]
  },
  {
   "cell_type": "markdown",
   "metadata": {},
   "source": [
    "d.  Écrivez le code qui extrait les groupes nominaux de toutes les phrases (en anglais: Noun Phrases), et qui affiche les 5 les plus fréquents avec leurs nombres d'occurrences."
   ]
  },
  {
   "cell_type": "code",
   "execution_count": 32,
   "metadata": {},
   "outputs": [
    {
     "data": {
      "text/plain": [
       "[('transport', 2),\n",
       " ('Le train', 2),\n",
       " ('marchandises', 2),\n",
       " ('le mot train', 2),\n",
       " ('Les gares voyageurs', 1)]"
      ]
     },
     "execution_count": 32,
     "metadata": {},
     "output_type": "execute_result"
    }
   ],
   "source": [
    "from nltk import FreqDist\n",
    "\n",
    "def exctract_np(tree):\n",
    "    local_np = []\n",
    "    for subtree in tree.subtrees():\n",
    "        if subtree.label() == 'NP':\n",
    "            local_np.append(' '.join(subtree.leaves()))\n",
    "    return local_np\n",
    "\n",
    "noun_phrases = []\n",
    "for tree in trees:\n",
    "    noun_phrases.extend(exctract_np(tree))\n",
    "\n",
    "fdist = FreqDist(noun_phrases)\n",
    "fdist.most_common(5)"
   ]
  },
  {
   "cell_type": "markdown",
   "metadata": {},
   "source": [
    "e. Veuillez répéter l'expérience avec un texte plus long (un texte en français du projet Gutenberg) et afficher les 20 groupes nominaux les plus fréquents.  Veuillez indiquer approximativement combien de temps a pris l'analyse syntaxique."
   ]
  },
  {
   "cell_type": "code",
   "execution_count": 62,
   "metadata": {},
   "outputs": [],
   "source": [
    "# Victor Hugo - Les Misérables (Chapitres 1 à 3)\n",
    "from urllib import request\n",
    "url = 'https://www.gutenberg.org/cache/epub/17489/pg17489.txt'\n",
    "response = request.urlopen(url)\n",
    "raw = response.read().decode('utf8')\n",
    "\n",
    "start_text = 'En 1815, M. Charles-François-Bienvenu Myriel était évêque de Digne.'\n",
    "end_text = 'Sa conversation était affable et gaie.'\n",
    "start = raw.find(start_text)\n",
    "end = raw.find(end_text)\n",
    "text = raw[start:end]\n",
    "formattedText = text.replace('\\r', '').replace('\\n', ' ')\n",
    "\n",
    "# Save formatted text to file\n",
    "with open('les_miserables.txt', 'w') as f:\n",
    "    f.write(formattedText)"
   ]
  },
  {
   "cell_type": "code",
   "execution_count": 63,
   "metadata": {},
   "outputs": [
    {
     "name": "stdout",
     "output_type": "stream",
     "text": [
      "Loading parser from serialized file frenchFactored.ser.gz ... done [0.8 sec].\n",
      "Parsing file: les_miserables.txt\n",
      "edu.stanford.nlp.international.french.process.FrenchLexer: Invalid options key in constructor: splitContractions\n",
      "Parsing [sent. 1 len. 15]: En 1815 , M. Charles - François - Bienvenu Myriel était évêque de Digne .\n",
      "Parsing [sent. 2 len. 20]: C' était un vieillard d' environ soixante - quinze ans ; il occupait le siège de Digne depuis 1806 .\n",
      "Parsing [sent. 3 len. 64]: Quoique ce détail ne touche en aucune manière à le fond même de ce que nous avons à raconter , il n' est peut - être pas inutile , ne fût -ce que pour être exact en tout , d' indiquer ici les bruits et les propos qui avaient couru sur son compte à le moment où il était arrivé dans le diocèse .\n",
      "FactoredParser: exceeded MAX_ITEMS work limit [200000 items]; aborting.\n",
      "Sentence couldn't be parsed by grammar.... falling back to PCFG parse.\n",
      "Parsing [sent. 4 len. 29]: Vrai ou faux , ce qu' on dit des hommes tient souvent autant de place dans leur vie et surtout dans leur destinée que ce qu' ils font .\n",
      "Parsing [sent. 5 len. 17]: M. Myriel était fils d' un conseiller à le parlement d' Aix ; noblesse de robe .\n",
      "Parsing [sent. 6 len. 42]: On contait de lui que son père , le réservant pour hériter de sa charge , l' avait marié de fort bonne heure , à dix - huit ou vingt ans , suivant un usage assez répandu dans les familles parlementaires .\n",
      "Parsing [sent. 7 len. 18]: Charles Myriel , nonobstant ce mariage , avait , disait -on , beaucoup fait parler de lui .\n",
      "Parsing [sent. 8 len. 38]: Il était bien fait de sa personne , quoique d' assez petite taille , élégant , gracieux , spirituel ; toute la première partie de sa vie avait été donnée à le monde et à les galanteries .\n",
      "FactoredParser: exceeded MAX_ITEMS work limit [200000 items]; aborting.\n",
      "Sentence couldn't be parsed by grammar.... falling back to PCFG parse.\n",
      "Parsing [sent. 9 len. 21]: La révolution survint , les événements se précipitèrent , les familles parlementaires décimées , chassées , traquées , se dispersèrent .\n",
      "Parsing [sent. 10 len. 16]: M. Charles Myriel , dès les premiers jours de la révolution , émigra en Italie .\n",
      "Parsing [sent. 11 len. 16]: Sa femme y mourut d' une maladie de poitrine dont elle était atteinte depuis longtemps .\n",
      "Parsing [sent. 12 len. 7]: Ils n' avaient point d' enfants .\n",
      "Parsing [sent. 13 len. 12]: Que se passa -t-il ensuite dans la destinée de M. Myriel ?\n",
      "Parsing [sent. 14 len. 55]: L' écroulement de l' ancienne société française , la chute de sa propre famille , les tragiques spectacles de 93 , plus effrayants encore peut - être pour les émigrés qui les voyaient de loin avec le grossissement de l' épouvante , firent -ils germer en lui des idées de renoncement et de solitude ?\n",
      "Parsing [sent. 15 len. 62]: Fut -il , à le milieu d' une de ces distractions et de ces affections qui occupaient sa vie , subitement atteint d' un de ces coups mystérieux et terribles qui viennent quelquefois renverser , en le frappant à le coeur , l' homme que les catastrophes publiques n' ébranleraient pas en le frappant dans son existence et dans sa fortune ?\n",
      "Parsing [sent. 16 len. 26]: Nul n' aurait pu le dire ; tout ce qu' on savait , c' est que , lorsqu'il revint d' Italie , il était prêtre .\n",
      "Parsing [sent. 17 len. 10]: En 1804 , M. Myriel était curé de Brignolles .\n",
      "Parsing [sent. 18 len. 12]: Il était déjà vieux , et vivait dans une retraite profonde .\n",
      "Parsing [sent. 19 len. 26]: Vers l' époque de le couronnement , une petite affaire de sa cure , on ne sait plus trop quoi , l' amena à Paris .\n",
      "Parsing [sent. 20 len. 16]: Entre autres personnes puissantes , il alla solliciter pour ses paroissiens M. le cardinal Fesch .\n",
      "Parsing [sent. 21 len. 32]: Un jour que l' empereur était venu faire visite à son oncle , le digne curé , qui attendait dans l' antichambre , se trouva sur le passage de sa majesté .\n",
      "Parsing [sent. 22 len. 29]: Napoléon , se voyant regardé avec une certaine curiosité par ce vieillard , se retourna , et dit brusquement : -- Quel est ce bonhomme qui me regarde ?\n",
      "Parsing [sent. 23 len. 20]: -- Sire , dit M. Myriel , vous regardez un bonhomme , et moi je regarde un grand homme .\n",
      "Parsing [sent. 24 len. 6]: Chacun de nous peut profiter .\n",
      "Parsing [sent. 25 len. 36]: L' empereur , le soir même , demanda à le cardinal le nom de ce curé , et quelque temps après M. Myriel fut tout surpris d' apprendre qu' il était nommé évêque de Digne .\n",
      "Parsing [sent. 26 len. 28]: Qu' y avait -il de vrai , de le reste , dans les récits qu' on faisait sur la première partie de la vie de M. Myriel ?\n",
      "Parsing [sent. 27 len. 5]: Personne ne le savait .\n",
      "Parsing [sent. 28 len. 12]: Peu de familles avaient connu la famille Myriel avant la révolution .\n",
      "Parsing [sent. 29 len. 31]: M. Myriel devait subir le sort de tout nouveau venu dans une petite ville où il y a beaucoup de bouches qui parlent et fort peu de têtes qui pensent .\n",
      "Parsing [sent. 30 len. 15]: Il devait le subir , quoiqu'il fût évêque et parce qu' il était évêque .\n",
      "Parsing [sent. 31 len. 50]: Mais , après tout , les propos auxquels on mêlait son nom n' étaient peut - être que des propos ; de le bruit , des mots , des paroles ; moins que des paroles , des _ palabres _ , comme dit l' énergique langue de le midi .\n",
      "Parsing [sent. 32 len. 45]: Quoi qu' il en fût , après neuf ans d' épiscopat et de résidence à Digne , tous ces racontages , sujets de conversation qui occupent dans le premier moment les petites villes et les petites gens , étaient tombés dans un oubli profond .\n",
      "Parsing [sent. 33 len. 16]: Personne n' eût osé en parler , personne n' eût même osé s' en souvenir .\n",
      "Parsing [sent. 34 len. 29]: M. Myriel était arrivé à Digne accompagné d' une vieille fille , mademoiselle Baptistine , qui était sa soeur et qui avait dix ans de moins que lui .\n",
      "Parsing [sent. 35 len. 51]: Ils avaient pour tout domestique une servante de le même âge que mademoiselle Baptistine , et appelée madame Magloire , laquelle , après avoir été -la servante de M. le Curé _ , prenait maintenant le double titre de femme de chambre de mademoiselle et femme de charge de monseigneur .\n",
      "FactoredParser: exceeded MAX_ITEMS work limit [200000 items]; aborting.\n",
      "Sentence couldn't be parsed by grammar.... falling back to PCFG parse.\n",
      "Parsing [sent. 36 len. 43]: Mademoiselle Baptistine était une personne longue , pâle , mince , douce ; elle réalisait l' idéal de ce qu' exprime le mot \" respectable \" ; car il semble qu' il soit nécessaire qu' une femme soit mère pour être vénérable .\n",
      "Parsing [sent. 37 len. 55]: Elle n' avait jamais été jolie ; toute sa vie , qui n' avait été qu' une suite de saintes oeuvres , avait fini par mettre sur elle une sorte de blancheur et de clarté ; et , en vieillissant , elle avait gagné ce qu' on pourrait appeler la beauté de la bonté .\n",
      "FactoredParser: exceeded MAX_ITEMS work limit [200000 items]; aborting.\n",
      "Sentence couldn't be parsed by grammar.... falling back to PCFG parse.\n",
      "Parsing [sent. 38 len. 29]: Ce qui avait été de la maigreur dans sa jeunesse était devenu , dans sa maturité , de la transparence ; et cette diaphanéité laissait voir l' ange .\n",
      "Parsing [sent. 39 len. 13]: C' était une âme plus encore que ce n' était une vierge .\n",
      "Parsing [sent. 40 len. 46]: Sa personne semblait faite d' ombre ; à peine assez de corps pour qu' il y eût là un sexe ; un peu de matière contenant une lueur ; de grands yeux toujours baissés ; un prétexte pour qu' une âme reste sur la terre .\n",
      "Parsing [sent. 41 len. 33]: Madame Magloire était une petite vieille , blanche , grasse , replète , affairée , toujours haletante , à cause de son activité d' abord , ensuite à cause d' un asthme .\n",
      "Parsing [sent. 42 len. 31]: À son arrivée , on installa M. Myriel en son palais épiscopal avec les honneurs voulus par les décrets impériaux qui classent l' évêque immédiatement après le maréchal de camp .\n",
      "Parsing [sent. 43 len. 28]: Le maire et le président lui firent la première visite , et lui de son côté fit la première visite à le général et à le préfet .\n",
      "Parsing [sent. 44 len. 13]: L' installation terminée , la ville attendit son évêque à l' oeuvre .\n",
      "Parsing [sent. 45 len. 18]: Chapitre II Monsieur Myriel devient monseigneur Bienvenu Le palais épiscopal de Digne était attenant à l' hôpital .\n",
      "Parsing [sent. 46 len. 45]: Le palais épiscopal était un vaste et bel hôtel bâti en pierre à le commencement de le siècle dernier par monseigneur Henri Puget , docteur en théologie de la faculté de Paris , abbé de Simore , lequel était évêque de Digne en 1712 .\n",
      "Parsing [sent. 47 len. 8]: Ce palais était un vrai logis seigneurial .\n",
      "Parsing [sent. 48 len. 44]: Tout y avait grand air , les appartements de l' évêque , les salons , les chambres , la cour d' honneur , fort large , avec promenoirs à arcades , selon l' ancienne mode florentine , les jardins plantés de magnifiques arbres .\n",
      "Parsing [sent. 49 len. 124]: Dans la salle à manger , longue et superbe galerie qui était à le rez - de - chaussée et s' ouvrait sur les jardins , monseigneur Henri Puget avait donné à manger en cérémonie le 29 juillet 1714 à messeigneurs Charles Brûlart de Genlis , archevêque - prince d' Embrun , Antoine de Mesgrigny , capucin , évêque de Grasse , Philippe de Vendôme , grand prieur de France , abbé de Saint - Honoré de Lérins , François de Berton de Grillon , évêque - baron de Vence , César de Sabran de Forcalquier , évêque - seigneur de Glandève , et Jean Soanen , prêtre de l' oratoire , prédicateur ordinaire de le roi , évêque - seigneur de Senez .\n",
      "\n",
      "*******************************************************\n",
      "***  WARNING!! OUT OF MEMORY! THERE WAS NOT ENOUGH  ***\n",
      "***  MEMORY TO RUN ALL PARSERS.  EITHER GIVE THE    ***\n",
      "***  JVM MORE MEMORY, SET THE MAXIMUM SENTENCE      ***\n",
      "***  LENGTH WITH -maxLength, OR PERHAPS YOU ARE     ***\n",
      "***  HAPPY TO HAVE THE PARSER FALL BACK TO USING    ***\n",
      "***  A SIMPLER PARSER FOR VERY LONG SENTENCES.      ***\n",
      "*******************************************************\n",
      "\n",
      "Sentence too long for dependency parser.  Falling back to PCFG parse...\n",
      "Parsing [sent. 50 len. 34]: Les portraits de ces sept révérends personnages décoraient cette salle , et cette date mémorable , 29 juillet 1714 , y était gravée en lettres d' or sur une table de marbre blanc .\n",
      "Parsing [sent. 51 len. 17]: L' hôpital était une maison étroite et basse à un seul étage avec un petit jardin .\n",
      "Parsing [sent. 52 len. 12]: Trois jours après son arrivée , l' évêque visita l' hôpital .\n",
      "Parsing [sent. 53 len. 17]: La visite terminée , il fit prier le directeur de vouloir bien venir jusque chez lui .\n",
      "Parsing [sent. 54 len. 21]: -- Monsieur le directeur de l' hôpital , lui dit -il , combien en ce moment avez -vous de malades ?\n",
      "Parsing [sent. 55 len. 7]: -- Vingt - six , monseigneur .\n",
      "Parsing [sent. 56 len. 13]: -- C' est ce que j' avais compté , dit l' évêque .\n",
      "Parsing [sent. 57 len. 17]: -- Les lits , reprit le directeur , sont bien serrés les uns contre les autres .\n",
      "Parsing [sent. 58 len. 9]: -- C' est ce que j' avais remarqué .\n",
      "Parsing [sent. 59 len. 17]: -- Les salles ne sont que des chambres , et l' air s' y renouvelle difficilement .\n",
      "Parsing [sent. 60 len. 8]: -- C' est ce qui me semble .\n",
      "Parsing [sent. 61 len. 22]: -- Et puis , quand il y a un rayon de soleil , le jardin est bien petit pour les convalescents .\n",
      "Parsing [sent. 62 len. 9]: -- C' est ce que je me disais .\n",
      "Parsing [sent. 63 len. 35]: -- Dans les épidémies , nous avons eu cette année le typhus , nous avons eu une suette militaire il y a deux ans , cent malades quelquefois ; nous ne savons que faire .\n",
      "Parsing [sent. 64 len. 10]: -- C' est la pensée qui m' était venue .\n",
      "Parsing [sent. 65 len. 7]: -- Que voulez -vous , monseigneur ?\n",
      "Parsing [sent. 66 len. 9]: dit le directeur , il faut se résigner .\n",
      "Parsing [sent. 67 len. 19]: Cette conversation avait lieu dans la salle à manger - galerie de le rez - de - chaussée .\n",
      "Parsing [sent. 68 len. 40]: L' évêque garda un moment le silence , puis il se tourna brusquement vers le directeur de l' hôpital : -- Monsieur , dit -il , combien pensez -vous qu' il tiendrait de lits rien que dans cette salle ?\n",
      "Parsing [sent. 69 len. 8]: -- La salle à manger de monseigneur !\n",
      "Parsing [sent. 70 len. 6]: s' écria le directeur stupéfait .\n",
      "Parsing [sent. 71 len. 21]: L' évêque parcourait la salle de le regard et semblait y faire avec les yeux des mesures et des calculs .\n",
      "Parsing [sent. 72 len. 8]: -- Il y tiendrait bien vingt lits !\n",
      "Parsing [sent. 73 len. 11]: dit -il , comme se parlant à lui - même .\n",
      "Parsing [sent. 74 len. 20]: Puis élevant la voix : -- Tenez , monsieur le directeur de l' hôpital , je vais vous dire .\n",
      "Parsing [sent. 75 len. 7]: Il y a évidemment une erreur .\n",
      "Parsing [sent. 76 len. 13]: Vous êtes vingt - six personnes dans cinq ou six petites chambres .\n",
      "Parsing [sent. 77 len. 12]: Nous sommes trois ici , et nous avons place pour soixante .\n",
      "Parsing [sent. 78 len. 9]: Il y a erreur , je vous dis .\n",
      "Parsing [sent. 79 len. 11]: Vous avez mon logis , et j' ai le vôtre .\n",
      "Parsing [sent. 80 len. 5]: Rendez -moi ma maison .\n",
      "Parsing [sent. 81 len. 6]: C' est ici chez vous .\n",
      "Parsing [sent. 82 len. 24]: Le lendemain , les vingt - six pauvres étaient installés dans le palais de l' évêque et l' évêque était à l' hôpital .\n",
      "Parsing [sent. 83 len. 17]: M. Myriel n' avait point de bien , sa famille ayant été ruinée par la révolution .\n",
      "Parsing [sent. 84 len. 22]: Sa soeur touchait une rente viagère de cinq cents francs qui , à le presbytère , suffisait à sa dépense personnelle .\n",
      "Parsing [sent. 85 len. 15]: M. Myriel recevait de l' état comme évêque un traitement de quinze mille francs .\n",
      "Parsing [sent. 86 len. 32]: Le jour même où il vint se loger dans la maison de l' hôpital , M. Myriel détermina l' emploi de cette somme une fois pour toutes de la manière suivante .\n",
      "Parsing [sent. 87 len. 10]: Nous transcrivons ici une note écrite de sa main .\n",
      "Parsing [sent. 88 len. 10]: _ Note pour régler les dépenses de ma maison .\n",
      "Parsing [sent. 89 len. 230]: _ _ Pour le petit séminaire : quinze cents livres _ _ Congrégation de la mission : cent livres _ _ Pour les lazaristes de Montdidier : cent livres _ _ Séminaire des missions étrangères à Paris : deux cents livres _ _ Congrégation de le Saint - Esprit : cent cinquante livres _ _ Établissements religieux de la Terre - Sainte : cent livres _ _ Sociétés de charité maternelle : trois cents livres _ _ En sus , pour celle d' Arles : cinquante livres _ _ OEuvre pour l' amélioration des prisons : quatre cents livres _ _ OEuvre pour le soulagement et la délivrance des prisonniers : cinq cents livres _ _ Pour libérer des pères de famille prisonniers pour dettes : mille livres _ _ Supplément à le traitement des pauvres maîtres d' école de le diocèse : deux mille livres _ _ Grenier d' abondance des Hautes - Alpes : cent livres _ _ Congrégation des dames de Digne , de Manosque et de Sisteron , pour l' enseignement gratuit des filles indigentes : quinze cents livres _ _ Pour les pauvres : six mille livres _ _ Ma dépense personnelle : mille livres _ Total : _ quinze mille livres _ Pendant tout le temps qu' il occupa le siège de Digne , M. Myriel ne changea presque rien à cet arrangement .\n",
      "Sentence too long for dependency parser.  Falling back to PCFG parse...\n",
      "Parsing [sent. 90 len. 18]: Il appelait cela , comme on voit , _ avoir réglé les dépenses de sa maison _ .\n",
      "Parsing [sent. 91 len. 12]: Cet arrangement fut accepté avec une soumission absolue par mademoiselle Baptistine .\n",
      "Parsing [sent. 92 len. 31]: Pour cette sainte fille , M. de Digne était tout à la fois son frère et son évêque , son ami selon la nature et son supérieur selon l' église .\n",
      "Parsing [sent. 93 len. 10]: Elle l' aimait et elle le vénérait tout simplement .\n",
      "Parsing [sent. 94 len. 15]: Quand il parlait , elle s' inclinait ; quand il agissait , elle adhérait .\n",
      "Parsing [sent. 95 len. 11]: La servante seule , madame Magloire , murmura un peu .\n",
      "Parsing [sent. 96 len. 36]: M. l' évêque , on l' a pu remarquer , ne s' était réservé que mille livres , ce qui , joint à la pension de mademoiselle Baptistine , faisait quinze cents francs par an .\n",
      "Parsing [sent. 97 len. 15]: Avec ces quinze cents francs , ces deux vieilles femmes et ce vieillard vivaient .\n",
      "Parsing [sent. 98 len. 37]: Et quand un curé de village venait à Digne , M. l' évêque trouvait encore moyen de le traiter , grâce à la sévère économie de madame Magloire et à l' intelligente administration de mademoiselle Baptistine .\n",
      "Parsing [sent. 99 len. 25]: Un jour -- il était à Digne depuis environ trois mois -- l' évêque dit : -- Avec tout cela je suis bien gêné !\n",
      "Parsing [sent. 100 len. 6]: -- Je le crois bien !\n",
      "Parsing [sent. 101 len. 32]: s' écria madame Magloire , Monseigneur n' a seulement pas réclamé la rente que le département lui doit pour ses frais de carrosse en ville et de tournées dans le diocèse .\n",
      "Parsing [sent. 102 len. 10]: Pour les évêques d' autrefois c' était l' usage .\n",
      "Parsing [sent. 103 len. 3]: -- Tiens !\n",
      "Parsing [sent. 104 len. 11]: dit l' évêque , vous avez raison , madame Magloire .\n",
      "Parsing [sent. 105 len. 5]: Il fit sa réclamation .\n",
      "Parsing [sent. 106 len. 49]: Quelque temps après , le conseil général , prenant cette demande en considération , lui vota une somme annuelle de trois mille francs , sous cette rubrique : _ Allocation à M. l' évêque pour frais de carrosse , frais de poste et frais de tournées pastorales _ .\n",
      "Parsing [sent. 107 len. 81]: Cela fit beaucoup crier la bourgeoisie locale , et , à cette occasion , un sénateur de l' empire , ancien membre de le conseil des cinq - cents favorable à le dix - huit brumaire et pourvu près de la ville de Digne d' une sénatorerie magnifique , écrivit à le ministre des cultes , M. Bigot de Préameneu , un petit billet irrité et confidentiel dont nous extrayons ces lignes authentiques : \" -- Des frais de carrosse ?\n",
      "Sentence couldn't be parsed by grammar.... falling back to PCFG parse.\n",
      "Parsing [sent. 108 len. 12]: pourquoi faire dans une ville de moins de quatre mille habitants ?\n",
      "Parsing [sent. 109 len. 8]: Des frais de poste et de tournées ?\n",
      "Parsing [sent. 110 len. 8]: à quoi bon ces tournées d' abord ?\n",
      "Parsing [sent. 111 len. 11]: ensuite comment courir la poste dans un pays de montagnes ?\n",
      "Parsing [sent. 112 len. 8]: Il n' y a pas de routes .\n",
      "Parsing [sent. 113 len. 7]: On ne va qu' à cheval .\n",
      "Parsing [sent. 114 len. 19]: Le pont même de la Durance à Château - Arnoux peut à peine porter des charrettes à boeufs .\n",
      "Parsing [sent. 115 len. 6]: Ces prêtres sont tous ainsi .\n",
      "Parsing [sent. 116 len. 4]: Avides et avares .\n",
      "Parsing [sent. 117 len. 11]: Celui - ci a fait le bon apôtre en arrivant .\n",
      "Parsing [sent. 118 len. 7]: Maintenant il fait comme les autres .\n",
      "Parsing [sent. 119 len. 9]: Il lui faut carrosse et chaise de poste .\n",
      "Parsing [sent. 120 len. 12]: Il lui faut de le luxe comme à les anciens évêques .\n",
      "Parsing [sent. 121 len. 2]: Oh !\n",
      "Parsing [sent. 122 len. 4]: toute cette prêtraille !\n",
      "Parsing [sent. 123 len. 19]: Monsieur le comte , les choses n' iront bien que lorsque l' empereur nous aura délivrés des calotins .\n",
      "Parsing [sent. 124 len. 5]: À bas le pape !\n",
      "Parsing [sent. 125 len. 9]: -LRB- les affaires se brouillaient avec Rome -RRB- .\n",
      "Parsing [sent. 126 len. 11]: Quant à moi , je suis pour César tout seul .\n",
      "Parsing [sent. 127 len. 15]: Etc. , etc. \" La chose , en revanche , réjouit fort madame Magloire .\n",
      "Parsing [sent. 128 len. 29]: -- Bon , dit -elle à mademoiselle Baptistine , Monseigneur a commencé par les autres , mais il a bien fallu qu' il finît par lui - même .\n",
      "Parsing [sent. 129 len. 7]: Il a réglé toutes ses charités .\n",
      "Parsing [sent. 130 len. 7]: Voilà trois mille livres pour nous .\n",
      "Parsing [sent. 131 len. 2]: Enfin !\n",
      "Sentence couldn't be parsed by grammar.... falling back to PCFG parse.\n",
      "Parsing [sent. 132 len. 25]: Le soir même , l' évêque écrivit et remit à sa soeur une note ainsi conçue : _ Frais de carrosse et de tournées .\n",
      "Parsing [sent. 133 len. 84]: _ _ Pour donner de le bouillon de viande à les malades de l' hôpital : quinze cents livres _ _ Pour la société de charité maternelle d' Aix : deux cent cinquante livres _ _ Pour la société de charité maternelle de Draguignan : deux cent cinquante livres _ _ Pour les enfants trouvés : cinq cents livres _ _ Pour les orphelins : cinq cents livres _ Total : _ trois mille livres _ Tel était le budget de M. Myriel .\n",
      "FactoredParser: exceeded MAX_ITEMS work limit [200000 items]; aborting.\n",
      "Sentence couldn't be parsed by grammar.... falling back to PCFG parse.\n",
      "Parsing [sent. 134 len. 48]: Quant à le casuel épiscopal , rachats de bans , dispenses , ondoiements , prédications , bénédictions d' églises ou de chapelles , mariages , etc. , l' évêque le percevait sur les riches avec d' autant plus d' âpreté qu' il le donnait à les pauvres .\n",
      "Parsing [sent. 135 len. 14]: à le bout de peu de temps , les offrandes d' argent affluèrent .\n",
      "Parsing [sent. 136 len. 28]: Ceux qui ont et ceux qui manquent frappaient à la porte de M. Myriel , les uns venant chercher l' aumône que les autres venaient y déposer .\n",
      "Parsing [sent. 137 len. 24]: L' évêque , en moins d' un an , devint le trésorier de tous les bienfaits et le caissier de toutes les détresses .\n",
      "Parsing [sent. 138 len. 34]: Des sommes considérables passaient par ses mains ; mais rien ne put faire qu' il changeât quelque chose à son genre de vie et qu' il ajoutât le moindre superflu à son nécessaire .\n",
      "Parsing [sent. 139 len. 4]: Loin de là .\n",
      "Sentence couldn't be parsed by grammar.... falling back to PCFG parse.\n",
      "Parsing [sent. 140 len. 55]: Comme il y a toujours encore plus de misère en bas que de fraternité en haut , tout était donné , pour ainsi dire , avant d' être reçu ; c' était comme de l' eau sur une terre sèche ; il avait beau recevoir de l' argent , il n' en avait jamais .\n",
      "FactoredParser: exceeded MAX_ITEMS work limit [200000 items]; aborting.\n",
      "Sentence couldn't be parsed by grammar.... falling back to PCFG parse.\n",
      "Parsing [sent. 141 len. 5]: Alors il se dépouillait .\n",
      "Parsing [sent. 142 len. 63]: L' usage étant que les évêques énoncent leurs noms de baptême en tête de leurs mandements et de leurs lettres pastorales , les pauvres gens de le pays avaient choisi , avec une sorte d' instinct affectueux , dans les noms et prénoms de l' évêque , celui qui leur présentait un sens , et ils ne l' appelaient que monseigneur Bienvenu .\n",
      "Parsing [sent. 143 len. 14]: Nous ferons comme eux , et nous le nommerons ainsi dans l' occasion .\n",
      "Parsing [sent. 144 len. 9]: de le reste , cette appellation lui plaisait .\n",
      "Parsing [sent. 145 len. 11]: -- J' aime ce nom - là , disait -il .\n",
      "Parsing [sent. 146 len. 4]: Bienvenu corrige monseigneur .\n",
      "Parsing [sent. 147 len. 24]: Nous ne prétendons pas que le portrait que nous faisons ici soit vraisemblable ; nous nous bornons à dire qu' il est ressemblant .\n",
      "Parsing [sent. 148 len. 27]: Chapitre III À bon évêque dur évêché M. l' évêque , pour avoir converti son carrosse en aumônes , n' en faisait pas moins ses tournées .\n",
      "Parsing [sent. 149 len. 10]: C' est un diocèse fatigant que celui de Digne .\n",
      "Parsing [sent. 150 len. 44]: Il a fort peu de plaines , beaucoup de montagnes , presque pas de routes , on l' a vu tout à l' heure ; trente - deux cures , quarante et un vicariats et deux cent quatre - vingt - cinq succursales .\n",
      "Parsing [sent. 151 len. 9]: Visiter tout cela , c' est une affaire .\n",
      "Parsing [sent. 152 len. 8]: M. l' évêque en venait à bout .\n",
      "Parsing [sent. 153 len. 23]: Il allait à pied quand c' était dans le voisinage , en carriole dans la plaine , en cacolet dans la montagne .\n",
      "Parsing [sent. 154 len. 7]: Les deux vieilles femmes l' accompagnaient .\n",
      "Parsing [sent. 155 len. 13]: Quand le trajet était trop pénible pour elles , il allait seul .\n",
      "Parsing [sent. 156 len. 20]: Un jour , il arriva à Senez , qui est une ancienne ville épiscopale , monté sur un âne .\n",
      "Parsing [sent. 157 len. 19]: Sa bourse , fort à sec dans ce moment , ne lui avait pas permis d' autre équipage .\n",
      "Parsing [sent. 158 len. 26]: Le maire de la ville vint le recevoir à la porte de l' évêché et le regardait descendre de son âne avec des yeux scandalisés .\n",
      "Parsing [sent. 159 len. 7]: Quelques bourgeois riaient autour de lui .\n",
      "Parsing [sent. 160 len. 47]: -- Monsieur le maire , dit l' évêque , et messieurs les bourgeois , je vois ce qui vous scandalise ; vous trouvez que c' est bien de l' orgueil à un pauvre prêtre de monter une monture qui a été celle de Jésus - Christ .\n",
      "Parsing [sent. 161 len. 15]: Je l' ai fait par nécessité , je vous assure , non par vanité .\n",
      "Parsing [sent. 162 len. 18]: Dans ses tournées , il était indulgent et doux , et prêchait moins qu' il ne causait .\n",
      "Parsing [sent. 163 len. 10]: Il ne mettait aucune vertu sur un plateau inaccessible .\n",
      "Parsing [sent. 164 len. 13]: Il n' allait jamais chercher bien loin ses raisonnements et ses modèles .\n",
      "Parsing [sent. 165 len. 15]: à les habitants d' un pays il citait l' exemple de le pays voisin .\n",
      "Parsing [sent. 166 len. 22]: Dans les cantons où l' on était dur pour les nécessiteux , il disait : -- Voyez les gens de Briançon .\n",
      "Parsing [sent. 167 len. 28]: Ils ont donné à les indigents , à les veuves et à les orphelins le droit de faire faucher leurs prairies trois jours avant tous les autres .\n",
      "Parsing [sent. 168 len. 12]: Ils leur rebâtissent gratuitement leurs maisons quand elles sont en ruines .\n",
      "Parsing [sent. 169 len. 9]: Aussi est -ce un pays béni de Dieu .\n",
      "Parsing [sent. 170 len. 17]: Durant tout un siècle de cent ans , il n' y a pas eu un meurtrier .\n",
      "Parsing [sent. 171 len. 21]: Dans les villages âpres à le gain et à la moisson , il disait : -- Voyez ceux d' Embrun .\n",
      "FactoredParser: no consistent parse [hit A*-blocked edges, aborting].\n",
      "Sentence couldn't be parsed by grammar.... falling back to PCFG parse.\n",
      "Parsing [sent. 172 len. 91]: Si un père de famille , à le temps de la récolte , a ses fils à le service à l' armée et ses filles en service à la ville , et qu' il soit malade et empêché , le curé le recommande à le prône ; et le dimanche , après la messe , tous les gens de le village , hommes , femmes , enfants , vont dans le champ de le pauvre homme lui faire sa moisson , et lui rapportent paille et grain dans son grenier .\n",
      "Parsing [sent. 173 len. 40]: à les familles divisées par des questions d' argent et d' héritage , il disait : -- Voyez les montagnards de Devoluy , pays si sauvage qu' on n' y entend pas le rossignol une fois en cinquante ans .\n",
      "Parsing [sent. 174 len. 35]: Eh bien , quand le père meurt dans une famille , les garçons s' en vont chercher fortune , et laissent le bien à les filles , afin qu' elles puissent trouver des maris .\n",
      "Parsing [sent. 175 len. 33]: à les cantons qui ont le goût des procès et où les fermiers se ruinent en papier timbré , il disait : -- Voyez ces bons paysans de la vallée de Queyras .\n",
      "Parsing [sent. 176 len. 7]: Ils sont là trois mille âmes .\n",
      "Parsing [sent. 177 len. 3]: Mon Dieu !\n",
      "Parsing [sent. 178 len. 7]: c' est comme une petite république .\n",
      "Parsing [sent. 179 len. 12]: On n' y connaît ni le juge , ni l' huissier .\n",
      "Parsing [sent. 180 len. 5]: Le maire fait tout .\n",
      "Parsing [sent. 181 len. 44]: Il répartit l' impôt , taxe chacun en conscience , juge les querelles gratis , partage les patrimoines sans honoraires , rend des sentences sans frais ; et on lui obéit , parce que c' est un homme juste parmi des hommes simples .\n",
      "Parsing [sent. 182 len. 27]: à les villages où il ne trouvait pas de maître d' école , il citait encore ceux de Queyras : -- Savez -vous comment ils font ?\n",
      "Parsing [sent. 183 len. 3]: disait -il .\n",
      "Parsing [sent. 184 len. 50]: Comme un petit pays de douze ou quinze feux ne peut pas toujours nourrir un magister , ils ont des maîtres d' école payés par toute la vallée qui parcourent les villages , passant huit jours dans celui - ci , dix dans celui - là , et enseignant .\n",
      "Parsing [sent. 185 len. 13]: Ces magisters vont à les foires , où je les ai vus .\n",
      "Parsing [sent. 186 len. 18]: On les reconnaît à des plumes à écrire qu' ils portent dans la ganse de leur chapeau .\n",
      "Parsing [sent. 187 len. 38]: Ceux qui n' enseignent qu' à lire ont une plume , ceux qui enseignent la lecture et le calcul ont deux plumes ; ceux qui enseignent la lecture , le calcul et le latin ont trois plumes .\n",
      "Parsing [sent. 188 len. 8]: Ceux - là sont de grands savants .\n",
      "Parsing [sent. 189 len. 7]: Mais quelle honte d' être ignorants !\n",
      "Parsing [sent. 190 len. 7]: Faites comme les gens de Queyras .\n",
      "Parsing [sent. 191 len. 46]: Il parlait ainsi , gravement et paternellement , à défaut d' exemples inventant des paraboles , allant droit à le but , avec peu de phrases et beaucoup d' images , ce qui était l' éloquence même de Jésus - Christ , convaincu et persuadant .\n",
      "Parsing [sent. 192 len. 8]: Chapitre IV Les oeuvres semblables à les paroles\n",
      "Parsed file: les_miserables.txt [192 sentences].\n",
      "\n",
      "*******************************************************\n",
      "***  WARNING!! OUT OF MEMORY! THERE WAS NOT ENOUGH  ***\n",
      "***  MEMORY TO RUN ALL PARSERS.  EITHER GIVE THE    ***\n",
      "***  JVM MORE MEMORY, SET THE MAXIMUM SENTENCE      ***\n",
      "***  LENGTH WITH -maxLength, OR PERHAPS YOU ARE     ***\n",
      "***  HAPPY TO HAVE THE PARSER FALL BACK TO USING    ***\n",
      "***  A SIMPLER PARSER FOR VERY LONG SENTENCES.      ***\n",
      "*******************************************************\n",
      "\n",
      "Parsed 4304 words in 192 sentences (14,26 wds/sec; 0,64 sents/sec).\n",
      "  12 sentences were parsed by fallback to PCFG.\n"
     ]
    }
   ],
   "source": [
    "!java -Xmx20g -cp stanford-corenlp-3.9.2.jar edu.stanford.nlp.parser.lexparser.LexicalizedParser \\\n",
    "-outputFormat oneline \\\n",
    "-writeOutputFiles \\\n",
    "frenchFactored.ser.gz les_miserables.txt"
   ]
  },
  {
   "attachments": {},
   "cell_type": "markdown",
   "metadata": {},
   "source": [
    "Temps de l'analyse syntaxe pour les trois premiers chapitres des misérables (192 phrases): 5 minutes et 6 secondes."
   ]
  },
  {
   "cell_type": "code",
   "execution_count": 64,
   "metadata": {},
   "outputs": [],
   "source": [
    "filename_miserables = 'les_miserables.txt.stp'\n",
    "reader_miserables = BracketParseCorpusReader('.', filename_miserables)\n",
    "trees_miserables = reader_miserables.parsed_sents()"
   ]
  },
  {
   "cell_type": "code",
   "execution_count": 65,
   "metadata": {},
   "outputs": [
    {
     "data": {
      "text/plain": [
       "[('qui', 31),\n",
       " (\"l' évêque\", 16),\n",
       " ('M. Myriel', 15),\n",
       " ('--', 14),\n",
       " ('Digne', 13),\n",
       " (\"l' hôpital\", 8),\n",
       " (\"qu'\", 6),\n",
       " ('où', 6),\n",
       " ('mademoiselle Baptistine', 5),\n",
       " ('_ _', 5),\n",
       " ('madame Magloire', 5),\n",
       " ('lui', 4),\n",
       " ('que', 4),\n",
       " ('les autres', 4),\n",
       " (\"M. l' évêque\", 4),\n",
       " ('évêque de Digne', 3),\n",
       " ('le diocèse', 3),\n",
       " ('la révolution', 3),\n",
       " ('Paris', 3),\n",
       " ('tout', 3)]"
      ]
     },
     "execution_count": 65,
     "metadata": {},
     "output_type": "execute_result"
    }
   ],
   "source": [
    "noun_phrases_mis = []\n",
    "for tree in trees_miserables:\n",
    "    noun_phrases_mis.extend(exctract_np(tree))\n",
    "\n",
    "fdist_mis = FreqDist(noun_phrases_mis)\n",
    "fdist_mis.most_common(20)"
   ]
  },
  {
   "cell_type": "markdown",
   "metadata": {},
   "source": [
    "## 2. Analyse de dépendances\n",
    "\n",
    "Dans cette partie, vous utiliserez le [Stanford Dependency Parser](https://nlp.stanford.edu/software/nndep.html), un analyseur fondé sur un réseau de neurones.\n",
    "\n",
    "* **code Java** : fichier `stanford-corenlp-3.9.2.jar` (8 Mo) fourni sur Cyberlearn (note: on peut le télécharger avec un [package fourni par Stanford](https://nlp.stanford.edu/software/lex-parser.html) ou depuis le [site Maven de Stanford CoreNLP](https://search.maven.org/artifact/edu.stanford.nlp/stanford-corenlp/3.9.2/jar))\n",
    "* **modèle** : fichier `UD_French.gz` (10 Mo) fourni sur Cyberlearn (note: plusieurs modèles sont disponibles sur le site Maven, dont un package pour le français de 272 MB, mais ici vous aurez seulement besoin du modèle UD pour Universal Dependencies)\n",
    "* **données** : les mêmes que pour le labo 2, disponibles dans [l'archive ZIP fournie par l'enseignant](https://drive.switch.ch/index.php/s/5ZNllZOApTWHGwH) (mot de passe = reference).  Ces textes en français proviennent du projet [Universal Dependencies (UD)](https://github.com/UniversalDependencies/UD_French-GSD).  Le fichier `fr-ud-train.conllu3` est destiné à l'entraînement, `fr-ud-dev.conllu3` à la validation, et `fr-ud-test.conllu3` à l'évaluation finale."
   ]
  },
  {
   "cell_type": "markdown",
   "metadata": {},
   "source": [
    "Pour effectuer les tâches suivantes, utilisez la [documentation](https://nlp.stanford.edu/nlp/javadoc/javanlp/edu/stanford/nlp/parser/nndep/DependencyParser.html) et regardez surtout le `main()` et les exemples données à la fin.\n",
    "\n",
    "a. Exécuter le parser en Java (avec une commande externe `!java -cp ...` comme au labo 2) en l'appliquant au fichier UD de *test* en français.  Écrivez le résultat détaillé dans un fichier plutôt qu'à l'écran.  Quels sont les deux scores obtenus et que signifient-ils ?\n"
   ]
  },
  {
   "cell_type": "code",
   "execution_count": 34,
   "metadata": {},
   "outputs": [
    {
     "name": "stdout",
     "output_type": "stream",
     "text": [
      "Loading depparse model: UD_French.gz ... \n",
      "###################\n",
      "#Transitions: 81\n",
      "#Labels: 40\n",
      "ROOTLABEL: root\n",
      "PreComputed 99996, Elapsed Time: 3.459 (s)\n",
      "Initializing dependency parser ... done [4.0 sec].\n",
      "Test File: fr-ud-test.conllu3\n",
      "OOV Words: 608 / 10020 = 6,07%\n",
      "UAS = 55,0699\n",
      "LAS = 41,1577\n",
      "DependencyParser parsed 10020 words in 416 sentences in 2,8s at 3625,2 w/s, 150,5 sent/s.\n"
     ]
    }
   ],
   "source": [
    "!java -cp stanford-corenlp-3.9.2.jar edu.stanford.nlp.parser.nndep.DependencyParser \\\n",
    "  -model UD_French.gz \\\n",
    "  -testFile fr-ud-test.conllu3 \\\n",
    "  -outFile analyse-dep-1.txt"
   ]
  },
  {
   "attachments": {},
   "cell_type": "markdown",
   "metadata": {},
   "source": [
    "### Scores obtenus:\n",
    "UAS: 55,0699, LAS: 41,1577\n",
    "\n",
    "### Signification\n",
    "\n",
    "TODO\n",
    "\n",
    "Les scores LAS (Labeled Attachment Score) et UAS (Unlabeled Attachment Score) sont utilisés pour évaluer la précision des analyses de dépendances dans la compréhension du sens des phrases dans les modèles de traitement de langage naturel.\n",
    "\n",
    "Le score UAS est une mesure de la précision globale du modèle, qui mesure le pourcentage de mots dont la dépendance est correctement prédite sans prendre en compte l'étiquette grammaticale précise de la relation de dépendance.\n",
    "\n",
    "Le score LAS, quant à lui, mesure la précision du modèle en prenant en compte l'étiquette grammaticale précise de la relation de dépendance. Cela signifie que LAS mesure la précision du modèle à la fois pour prédire la bonne relation de dépendance et pour attribuer la bonne étiquette grammaticale à cette relation.\n",
    "\n",
    "En général, un score LAS ou UAS élevé indique une meilleure précision du modèle dans la prédiction des dépendances. Ces scores sont couramment utilisés pour comparer les performances de différents modèles d'analyse de dépendances dans le traitement de langage naturel.\n",
    "\n",
    "TODO: fin ChatGPT\n",
    "\n",
    "Ces deux labels sont des métriques standards utilisées pour l'évaluation des analyseurs de dépendances. Voici leur signification individuelle ainsi que leurs différences:\n",
    "\n",
    "UAS: Unlabeled attachment score: on regarde que les flèches\n",
    "\n",
    "LAS: Labeled attachment score: on regarde aussi les étiquettes des flèches, plus difficile à obtenir car on ne peut pas avoir l'étiquette juste sans avoir la flèche également juste."
   ]
  },
  {
   "cell_type": "markdown",
   "metadata": {},
   "source": [
    "## 3. Entraîner l'analyseur de dépendances\n",
    "\n",
    "a. Veuillez entraîner l'analyseur en suivant les indications suivantes:\n",
    "* donnez un nouveau nom au modèle qui sera créé (ne pas écraser l'ancien)\n",
    "* utilisez à la fois `train` et `dev` comme indiqué dans la documentation\n",
    "* évitez un output trop verbeux en le redirigeant vers un fichier `output.txt` (ajoutez `>output.txt 2>&1` à la commande)\n",
    "* plusieurs options indiquées dans la documentation peuvent être utiles\n",
    "  * `-wordCutOff 3` pour traiter seulement les mots apparaissant plus de 3 fois, ce qui évite en particulier le problème des nombres écrits avec un espace (apparaissant 1 fois)\n",
    "  * `-trainingThreads 4` pour utiliser pleinement votre processeur : indiquez le maximum selon votre modèle\n",
    "  * `-maxIter 5000` pour arrêter l'entraînement après 5000 itérations (essayez d'abord beaucoup moins pour vous faire une idée du temps, puis si vous le pouvez, allez plus loin que 5000)"
   ]
  },
  {
   "cell_type": "code",
   "execution_count": 15,
   "metadata": {},
   "outputs": [],
   "source": [
    "!java -cp stanford-corenlp-3.9.2.jar edu.stanford.nlp.parser.nndep.DependencyParser \\\n",
    "    -trainFile fr-ud-train.conllu3 \\\n",
    "    -devFile fr-ud-dev.conllu3 \\\n",
    "    -model myModel.gz \\\n",
    "    -wordCutOff 3 \\\n",
    "    -trainingThreads 8 \\\n",
    "    -maxIter 5000 \\\n",
    "    >output.txt 2>&1"
   ]
  },
  {
   "cell_type": "markdown",
   "metadata": {},
   "source": [
    "b. Quels sont les scores (sur les données de test) du système que vous avez entraîné ?  Comment se comparent-ils avec ceux du système par défaut ?"
   ]
  },
  {
   "cell_type": "code",
   "execution_count": 35,
   "metadata": {},
   "outputs": [
    {
     "name": "stdout",
     "output_type": "stream",
     "text": [
      "Loading depparse model: myModel.gz ... \n",
      "Loaded TreebankLanguagePack: edu.stanford.nlp.trees.PennTreebankLanguagePack\n",
      "###################\n",
      "#Transitions: 91\n",
      "#Labels: 45\n",
      "ROOTLABEL: root\n",
      "PreComputed 100000, Elapsed Time: 0.687 (s)\n",
      "Initializing dependency parser ... done [1.2 sec].\n",
      "Test File: fr-ud-test.conllu3\n",
      "OOV Words: 1100 / 10020 = 10,98%\n",
      "UAS = 78,1836\n",
      "LAS = 71,7066\n",
      "DependencyParser parsed 10020 words in 416 sentences in 0,4s at 22516,9 w/s, 934,8 sent/s.\n"
     ]
    }
   ],
   "source": [
    "!java -cp stanford-corenlp-3.9.2.jar edu.stanford.nlp.parser.nndep.DependencyParser \\\n",
    "    -model 'myModel.gz' \\\n",
    "    -testFile 'fr-ud-test.conllu3' \\\n",
    "    -verboseResults false"
   ]
  },
  {
   "attachments": {},
   "cell_type": "markdown",
   "metadata": {},
   "source": [
    "Ils sont de:\n",
    "UAS = 78,1836 LAS = 71,7066\n",
    "\n",
    "Pour comparer, ceux du système par défaut étaient de: UAS = 55,0699 LAS = 41,1577.\n",
    "\n",
    "Nous observons donc que notre modèle est bien plus performant que le modèle par défaut."
   ]
  },
  {
   "cell_type": "markdown",
   "metadata": {},
   "source": [
    "c. En traitant le fichier de logs du parser (après l'entraînement), collectez les scores UAS obtenus sur l'ensemble de développement (ou validation).  Affichez sur un graphe l'évolution du score au cours de l'entraînement.  À quelle itération obtenez-vous la valeur maximale de ce score ? Le nombre d'itérations de l'entraînement vous semble-t-il suffisant  ?"
   ]
  },
  {
   "cell_type": "code",
   "execution_count": 18,
   "metadata": {},
   "outputs": [],
   "source": [
    "def parse_output(filename):\n",
    "  uas = {}\n",
    "\n",
    "  with open(filename, 'r') as f:\n",
    "    lines = f.readlines()\n",
    "    currentIteration = 0\n",
    "    for line in lines:\n",
    "        if 'Iteration' in line:\n",
    "            currentIteration = int(line.split(' ')[2])\n",
    "        if line.startswith('UAS'):\n",
    "            uas[currentIteration] = float(line.split(':')[1])\n",
    "  return uas\n",
    "\n",
    "uas = parse_output('output.txt')"
   ]
  },
  {
   "cell_type": "code",
   "execution_count": 23,
   "metadata": {},
   "outputs": [],
   "source": [
    "import matplotlib.pyplot as plt\n",
    "%matplotlib inline"
   ]
  },
  {
   "cell_type": "code",
   "execution_count": 32,
   "metadata": {},
   "outputs": [
    {
     "data": {
      "text/plain": [
       "<matplotlib.legend.Legend at 0x13759fca0>"
      ]
     },
     "execution_count": 32,
     "metadata": {},
     "output_type": "execute_result"
    },
    {
     "data": {
      "image/png": "[encoded data removed]",
      "text/plain": [
       "<Figure size 1200x600 with 1 Axes>"
      ]
     },
     "metadata": {},
     "output_type": "display_data"
    }
   ],
   "source": [
    "plt.figure(figsize=(12,6))\n",
    "plt.plot(uas.keys(), uas.values(), label='UAS')\n",
    "plt.plot(uas.keys(), [max(uas.values())]*len(uas.keys()), label='max uas')\n",
    "plt.xlabel('Iteration')\n",
    "plt.ylabel('UAS score')\n",
    "plt.title('UAS score over iterations')\n",
    "plt.legend()"
   ]
  },
  {
   "attachments": {},
   "cell_type": "markdown",
   "metadata": {},
   "source": [
    "L'UAS est calculé toutes les 100 itérations d'entraînement. Le meilleur UAS se trouve à l'itération 4100 avec une valeur de 80.79170277599172.\n",
    "\n",
    "Cependant, la dernière valeur de l'UAS (lors de l'itération 4900) est la 2ème plus haute de toutes et vaut 81.75617120013419, ce qui est très proche de la valeur maximale.\n",
    "\n",
    "Nous pouvons donc conclure, également en observant la courbe, que plus d'itérations lors de l'entraînement pourraient être bénéfiques car la courbe augmente encore légèrement, même vers l'itération 5000. Il faut donc regarder si ajouter des itérations améliore assez le score pour justifier le temps supplémentaire d'entraînement, qui est déjà assez élevé (plus de 40min environ)."
   ]
  },
  {
   "cell_type": "markdown",
   "metadata": {},
   "source": [
    "## Fin du laboratoire 3\n",
    "\n",
    "Merci de nettoyer votre feuille et de la sauvegarder.  Puis soumettez-la sur Cyberlearn."
   ]
  }
 ],
 "metadata": {
  "kernelspec": {
   "display_name": "tal",
   "language": "python",
   "name": "python3"
  },
  "language_info": {
   "codemirror_mode": {
    "name": "ipython",
    "version": 3
   },
   "file_extension": ".py",
   "mimetype": "text/x-python",
   "name": "python",
   "nbconvert_exporter": "python",
   "pygments_lexer": "ipython3",
   "version": "3.10.9"
  }
 },
 "nbformat": 4,
 "nbformat_minor": 2
}
